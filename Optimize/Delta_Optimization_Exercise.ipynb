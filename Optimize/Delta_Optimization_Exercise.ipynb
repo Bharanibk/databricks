{
 "cells": [
  {
   "cell_type": "code",
   "execution_count": 0,
   "metadata": {
    "application/vnd.databricks.v1+cell": {
     "cellMetadata": {
      "byteLimit": 2048000,
      "rowLimit": 10000
     },
     "inputWidgets": {},
     "nuid": "271616eb-7f71-47b3-9bee-abbe9fc72240",
     "showTitle": false,
     "tableResultSettingsMap": {},
     "title": ""
    }
   },
   "outputs": [],
   "source": [
    "from pyspark.sql import SparkSession\n",
    "from pyspark.sql.functions import *\n",
    "from datetime import datetime, timedelta\n",
    "import random\n",
    "\n",
    "# Create sample sales data\n",
    "data = []\n",
    "countries = ['USA', 'UK', 'Germany', 'France', 'Japan']\n",
    "products = ['Laptop', 'Phone', 'Tablet', 'Monitor', 'Keyboard']\n",
    "\n",
    "# Generate 100,000 records across different dates\n",
    "for i in range(10000):\n",
    "    date = (datetime(2024, 1, 1) + timedelta(days=random.randint(0, 365))).strftime('%Y-%m-%d')\n",
    "    price_val = random.uniform(50, 2000)\n",
    "    data.append({\n",
    "        'order_id': i,\n",
    "        'order_date': date,\n",
    "        'country': random.choice(countries),\n",
    "        'product': random.choice(products),\n",
    "        'quantity': random.randint(1, 10),\n",
    "        'price': float(f\"{price_val:.2f}\"),\n",
    "        'customer_id': random.randint(1000, 9999)\n",
    "    })\n",
    "\n",
    "# Create DataFrame\n",
    "df = spark.createDataFrame(data)\n",
    "#print(f\"Created {df.count()} records\")\n",
    "#df.show(10)"
   ]
  },
  {
   "cell_type": "code",
   "execution_count": 0,
   "metadata": {
    "application/vnd.databricks.v1+cell": {
     "cellMetadata": {
      "byteLimit": 2048000,
      "rowLimit": 10000
     },
     "inputWidgets": {},
     "nuid": "f805e939-0931-4cba-afeb-8856a004b583",
     "showTitle": false,
     "tableResultSettingsMap": {},
     "title": ""
    }
   },
   "outputs": [],
   "source": [
    "# Azure Storage configuration\n",
    "storage_account_name = \"shared5005\"\n",
    "container_name = \"rawdata\"\n",
    "account_key = \"\"\n",
    "\n",
    "# Use abfss:// scheme for ADLS Gen2\n",
    "delta_path = f\"abfss://{container_name}@{storage_account_name}.dfs.core.windows.net/sales_data\""
   ]
  },
  {
   "cell_type": "code",
   "execution_count": 0,
   "metadata": {
    "application/vnd.databricks.v1+cell": {
     "cellMetadata": {
      "byteLimit": 2048000,
      "rowLimit": 10000
     },
     "inputWidgets": {},
     "nuid": "97306c26-f7ac-4457-9f71-7394dc4a6021",
     "showTitle": false,
     "tableResultSettingsMap": {},
     "title": ""
    }
   },
   "outputs": [],
   "source": [
    "\n",
    "print(f\"Testing connection to: {delta_path}\")\n",
    "\n",
    "try:\n",
    "    df.write \\\n",
    "        .format(\"delta\") \\\n",
    "        .mode(\"overwrite\") \\\n",
    "        .option(f\"fs.azure.account.key.{storage_account_name}.dfs.core.windows.net\", account_key) \\\n",
    "        .partitionBy(\"country\") \\\n",
    "        .option(\"maxRecordsPerFile\", \"1000\") \\\n",
    "        .save(delta_path)\n",
    "\n",
    "    print(f\"✅ Delta table successfully written to {delta_path}\")\n",
    "\n",
    "except Exception as e:\n",
    "    print(f\"❌ Error writing Delta: {e}\")"
   ]
  },
  {
   "cell_type": "code",
   "execution_count": 0,
   "metadata": {
    "application/vnd.databricks.v1+cell": {
     "cellMetadata": {
      "byteLimit": 2048000,
      "rowLimit": 10000
     },
     "inputWidgets": {},
     "nuid": "83609eeb-844f-4481-a13d-5f744fd3275e",
     "showTitle": false,
     "tableResultSettingsMap": {},
     "title": ""
    }
   },
   "outputs": [],
   "source": [
    "df.repartition(\"country\").coalesce(1) \\\n",
    "    .write \\\n",
    "    .format(\"delta\") \\\n",
    "    .mode(\"overwrite\") \\\n",
    "    .option(f\"fs.azure.account.key.{storage_account_name}.dfs.core.windows.net\", account_key) \\\n",
    "    .partitionBy(\"country\") \\\n",
    "    .save(delta_path)"
   ]
  },
  {
   "cell_type": "code",
   "execution_count": 0,
   "metadata": {
    "application/vnd.databricks.v1+cell": {
     "cellMetadata": {
      "byteLimit": 2048000,
      "rowLimit": 10000
     },
     "inputWidgets": {},
     "nuid": "446f54e0-bd28-4a2d-b668-088e6edd78d5",
     "showTitle": false,
     "tableResultSettingsMap": {},
     "title": ""
    }
   },
   "outputs": [],
   "source": [
    "# Read the Delta table back\n",
    "df2 = spark.read \\\n",
    "    .format(\"delta\") \\\n",
    "    .option(f\"fs.azure.account.key.{storage_account_name}.dfs.core.windows.net\", account_key) \\\n",
    "    .load(delta_path)\n",
    "# Sample data from each partition\n",
    "print(\"\\n📊 Sample data by country:\")\n",
    "df2.groupBy(\"country\").count().orderBy(\"country\").show()"
   ]
  },
  {
   "cell_type": "code",
   "execution_count": 0,
   "metadata": {
    "application/vnd.databricks.v1+cell": {
     "cellMetadata": {
      "byteLimit": 2048000,
      "rowLimit": 10000
     },
     "inputWidgets": {},
     "nuid": "37682cdc-6210-469a-bebb-e3e0b9f6c53e",
     "showTitle": false,
     "tableResultSettingsMap": {},
     "title": ""
    }
   },
   "outputs": [],
   "source": [
    "# This will probably fail on serverless, but worth trying\n",
    "try:\n",
    "    from delta.tables import DeltaTable\n",
    "    \n",
    "    delta_table = DeltaTable.forPath(spark, delta_path)\n",
    "    \n",
    "    # Disable retention check (allows immediate deletion)\n",
    "    spark.conf.set(\"spark.databricks.delta.retentionDurationCheck.enabled\", False)\n",
    "    \n",
    "    print(\"🧹 Running VACUUM to clean old files...\")\n",
    "    \n",
    "    # VACUUM with 0 hours retention (delete everything not in current version)\n",
    "    delta_table.vacuum(0)\n",
    "    \n",
    "    print(\"✅ VACUUM completed - old files deleted!\")\n",
    "    \n",
    "except Exception as e:\n",
    "    print(f\"❌ VACUUM failed (expected on serverless): {e}\")\n",
    "    print(\"\\nUse Option 1 (delete and recreate) or Option 3 (classic compute)\")"
   ]
  }
 ],
 "metadata": {
  "application/vnd.databricks.v1+notebook": {
   "computePreferences": {
    "hardware": {
     "accelerator": null,
     "gpuPoolId": null,
     "memory": null
    }
   },
   "dashboards": [],
   "environmentMetadata": {
    "base_environment": "",
    "environment_version": "4"
   },
   "inputWidgetPreferences": null,
   "language": "python",
   "notebookMetadata": {
    "pythonIndentUnit": 4
   },
   "notebookName": "Delta_Optimization_Exercise",
   "widgets": {}
  },
  "language_info": {
   "name": "python"
  }
 },
 "nbformat": 4,
 "nbformat_minor": 0
}
